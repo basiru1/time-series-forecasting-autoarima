# 📈 **Telecom Revenue Forecasting with Auto-ARIMA**
# Author: Anso Michel

---

# 1. Import Libraries
```python
import warnings
import pandas as pd
import numpy as np
import matplotlib.pyplot as plt
from math import sqrt
from sklearn.metrics import mean_squared_error, mean_absolute_error
from pmdarima import auto_arima
from statsmodels.tsa.seasonal import seasonal_decompose
from statsmodels.tsa.stattools import adfuller
from statsmodels.graphics.tsaplots import plot_acf

warnings.filterwarnings("ignore")
```

---

# 2. Load and Prepare Data
```python
df = pd.read_csv('teleco_time_series.csv', index_col='Day', parse_dates=True)
df = df.dropna()
df.head()
```

---

# 3. Exploratory Data Analysis (EDA)
```python
plt.figure(figsize=(10,6))
plt.plot(df.index, df['Revenue'])
plt.ylabel('Daily Revenue (Millions)')
plt.xlabel('Date')
plt.title('Daily Telecom Revenue Over Time')
plt.show()
```

---

# 4. Seasonal Decomposition
```python
result = seasonal_decompose(df['Revenue'], model='additive', period=365)
result.plot()
plt.suptitle('Seasonal Decomposition', fontsize=16)
plt.show()
```

---

# 5. Stationarity Check (ADF Test)
```python
X = df['Revenue']
adf_result = adfuller(X)
print('ADF Statistic:', adf_result[0])
print('p-value:', adf_result[1])

if adf_result[1] <= 0.05:
    print("Strong evidence against null hypothesis - Data is stationary.")
else:
    print("Weak evidence against null hypothesis - Data is non-stationary.")
```

---

# 6. Autocorrelation Plot
```python
plot_acf(df['Revenue'])
plt.title('Autocorrelation Plot')
plt.show()
```

---

# 7. Differencing to Make Stationary (if needed)
```python
diff = df.diff().dropna()
plt.plot(diff)
plt.title('Differenced Series')
plt.xlabel('Date')
plt.ylabel('Differenced Revenue')
plt.show()
```

---

# 8. Train-Test Split
```python
train = df.iloc[:-365]
test = df.iloc[-365:]

print("Train shape:", train.shape)
print("Test shape:", test.shape)
```

---

# 9. Walk-Forward Validation with Auto-ARIMA
```python
history = list(train['Revenue'])
predictions = []
retrain_interval = 7  # Retrain every 7 days

for t in range(len(test)):
    if t % retrain_interval == 0:
        model = auto_arima(history,
                           seasonal=True, m=7,
                           suppress_warnings=True,
                           error_action='ignore',
                           stepwise=True,
                           max_p=5, max_q=5,
                           max_P=2, max_Q=2,
                           trace=False)
    yhat = model.predict(n_periods=1)[0]
    predictions.append(yhat)
    history.append(test['Revenue'].iloc[t])
```

---

# 10. Visualization of Forecast vs Actuals
```python
plt.figure(figsize=(14,7))
plt.plot(test.index, test['Revenue'], label='Actual Revenue')
plt.plot(test.index, predictions, label='Walk-Forward Forecast', color='red')
plt.title('Walk-Forward Validation Forecast vs Actual Revenue')
plt.xlabel('Date')
plt.ylabel('Revenue (Millions)')
plt.legend()
plt.show()
```

---

# 11. Forecast Evaluation Metrics
```python
def forecast_accuracy(forecast, actual):
    mae = mean_absolute_error(actual, forecast)
    mse = mean_squared_error(actual, forecast)
    rmse = sqrt(mse)
    mape = np.mean(np.abs((forecast - actual)/actual)) * 100
    return {'MAE': mae, 'RMSE': rmse, 'MAPE (%)': mape}

accuracy = forecast_accuracy(predictions, test['Revenue'])

print("\nWalk-Forward Validation Accuracy:")
for metric, value in accuracy.items():
    print(f"{metric}: {value:.4f}")
```

---

# 12. Conclusion
```markdown
The Auto-ARIMA model achieved a MAPE of approximately **4.75%**, 
indicating strong predictive capability for telecom revenue forecasting.
The model effectively tracks the revenue trends and can be reliably used for operational forecasting.
```

---

# 📌 End of Analysis

